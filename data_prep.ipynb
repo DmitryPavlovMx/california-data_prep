{
 "cells": [
  {
   "cell_type": "code",
   "execution_count": 8,
   "id": "870a1090-f4ae-45a0-aa93-0960f5c6478d",
   "metadata": {
    "editable": true,
    "slideshow": {
     "slide_type": ""
    },
    "tags": []
   },
   "outputs": [
    {
     "name": "stdout",
     "output_type": "stream",
     "text": [
      "The autoreload extension is already loaded. To reload it, use:\n",
      "  %reload_ext autoreload\n"
     ]
    }
   ],
   "source": [
    "%load_ext autoreload\n",
    "%autoreload 2"
   ]
  },
  {
   "cell_type": "code",
   "execution_count": 9,
   "id": "453c78e8-6822-4123-bf9d-ed1ae9dd7bea",
   "metadata": {
    "editable": true,
    "slideshow": {
     "slide_type": ""
    },
    "tags": [
     "parameters"
    ]
   },
   "outputs": [],
   "source": [
    "# specify substep parameters for interactive run\n",
    "# this cell will be replaced during job run with the parameters from json within params subfolder\n",
    "substep_params={\n",
    "    \"seed\":42,\n",
    "    \"test_size1\":0.3,\n",
    "     \"test_size2\": 0.5}"
   ]
  },
  {
   "cell_type": "code",
   "execution_count": 10,
   "id": "50592002-8b5f-47bd-82a7-3489fd1f5b1c",
   "metadata": {
    "editable": false,
    "slideshow": {
     "slide_type": ""
    },
    "tags": []
   },
   "outputs": [
    {
     "data": {
      "text/markdown": [
       "**Pipeline params:**\n"
      ],
      "text/plain": [
       "<IPython.core.display.Markdown object>"
      ]
     },
     "metadata": {},
     "output_type": "display_data"
    },
    {
     "name": "stdout",
     "output_type": "stream",
     "text": [
      "{'X': 'something',\n",
      " 'env_name': 'user',\n",
      " 'pipeline_name': 'pipeline',\n",
      " 'zone_name': 'zone'}\n",
      "\n",
      "\n"
     ]
    },
    {
     "data": {
      "text/markdown": [
       "**Step params:**\n"
      ],
      "text/plain": [
       "<IPython.core.display.Markdown object>"
      ]
     },
     "metadata": {},
     "output_type": "display_data"
    },
    {
     "name": "stdout",
     "output_type": "stream",
     "text": [
      "{'Y': 'something_else'}\n",
      "\n",
      "\n"
     ]
    }
   ],
   "source": [
    "# load pipeline and step parameters - do not edit\n",
    "from sinara.substep import get_pipeline_params, get_step_params\n",
    "pipeline_params = get_pipeline_params(pprint=True)\n",
    "step_params = get_step_params(pprint=True)"
   ]
  },
  {
   "cell_type": "code",
   "execution_count": 11,
   "id": "f3818420-6085-43ea-b97e-578742794e1e",
   "metadata": {
    "editable": true,
    "slideshow": {
     "slide_type": ""
    },
    "tags": [
     "interface"
    ]
   },
   "outputs": [
    {
     "data": {
      "text/markdown": [
       "**STEP NAME:**\n"
      ],
      "text/plain": [
       "<IPython.core.display.Markdown object>"
      ]
     },
     "metadata": {},
     "output_type": "display_data"
    },
    {
     "name": "stdout",
     "output_type": "stream",
     "text": [
      "'data_prep'\n",
      "\n",
      "\n"
     ]
    },
    {
     "data": {
      "text/markdown": [
       "**INPUTS:**\n"
      ],
      "text/plain": [
       "<IPython.core.display.Markdown object>"
      ]
     },
     "metadata": {},
     "output_type": "display_data"
    },
    {
     "name": "stdout",
     "output_type": "stream",
     "text": [
      "[{'user.pipeline.zone.data_load.california_dataset': '/data/home/jovyan/pipeline/zone/data_load/run-25-01-15-070529/california_dataset'}]\n",
      "\n",
      "\n"
     ]
    },
    {
     "data": {
      "text/markdown": [
       "**OUTPUTS:**\n"
      ],
      "text/plain": [
       "<IPython.core.display.Markdown object>"
      ]
     },
     "metadata": {},
     "output_type": "display_data"
    },
    {
     "name": "stdout",
     "output_type": "stream",
     "text": [
      "[{'user.pipeline.zone.data_prep.X_train': '/data/home/jovyan/pipeline/zone/data_prep/run-25-01-15-074559/X_train'},\n",
      " {'user.pipeline.zone.data_prep.X_test': '/data/home/jovyan/pipeline/zone/data_prep/run-25-01-15-074559/X_test'},\n",
      " {'user.pipeline.zone.data_prep.X_val': '/data/home/jovyan/pipeline/zone/data_prep/run-25-01-15-074559/X_val'},\n",
      " {'user.pipeline.zone.data_prep.y_train': '/data/home/jovyan/pipeline/zone/data_prep/run-25-01-15-074559/y_train'},\n",
      " {'user.pipeline.zone.data_prep.y_test': '/data/home/jovyan/pipeline/zone/data_prep/run-25-01-15-074559/y_test'},\n",
      " {'user.pipeline.zone.data_prep.y_val': '/data/home/jovyan/pipeline/zone/data_prep/run-25-01-15-074559/y_val'}]\n",
      "\n",
      "\n"
     ]
    }
   ],
   "source": [
    "#3 define substep interface\n",
    "from sinara.substep import NotebookSubstep, ENV_NAME, PIPELINE_NAME, ZONE_NAME, STEP_NAME, RUN_ID, ENTITY_NAME, ENTITY_PATH, SUBSTEP_NAME\n",
    "\n",
    "substep = NotebookSubstep(pipeline_params, step_params, substep_params)\n",
    "\n",
    "substep.interface(\n",
    "   \n",
    "    inputs =\n",
    "    [\n",
    "        { STEP_NAME: \"data_load\", ENTITY_NAME: \"california_dataset\" }\n",
    "    ],\n",
    "    outputs = \n",
    "    [\n",
    "        { ENTITY_NAME: \"X_train\" },\n",
    "        { ENTITY_NAME: \"X_test\" },\n",
    "        { ENTITY_NAME: \"X_val\" },\n",
    "        { ENTITY_NAME: \"y_train\" },\n",
    "        { ENTITY_NAME: \"y_test\" },\n",
    "        { ENTITY_NAME: \"y_val\" },\n",
    "    ]\n",
    ")\n",
    "\n",
    "substep.print_interface_info()\n",
    "\n",
    "substep.exit_in_visualize_mode()"
   ]
  },
  {
   "cell_type": "code",
   "execution_count": 12,
   "id": "55e950c3-3151-4daf-9b98-83d3aebe216d",
   "metadata": {
    "tags": []
   },
   "outputs": [
    {
     "name": "stdout",
     "output_type": "stream",
     "text": [
      "Session is run\n"
     ]
    },
    {
     "name": "stderr",
     "output_type": "stream",
     "text": [
      "Setting default log level to \"WARN\".\n",
      "To adjust logging level use sc.setLogLevel(newLevel). For SparkR, use setLogLevel(newLevel).\n",
      "25/01/15 07:46:04 WARN NativeCodeLoader: Unable to load native-hadoop library for your platform... using builtin-java classes where applicable\n"
     ]
    },
    {
     "data": {
      "text/html": [
       "<a href='/proxy/4040/jobs/' target='blank'>Open Spark UI</a>"
      ],
      "text/plain": [
       "<IPython.core.display.HTML object>"
      ]
     },
     "metadata": {},
     "output_type": "display_data"
    }
   ],
   "source": [
    "#4 run spark\n",
    "from sinara.spark import SinaraSpark\n",
    "\n",
    "spark = SinaraSpark.run_session(0)\n",
    "SinaraSpark.ui_url()"
   ]
  },
  {
   "cell_type": "code",
   "execution_count": 13,
   "id": "70b2d9b3-051c-424c-beec-9da8f177b4ed",
   "metadata": {
    "tags": []
   },
   "outputs": [],
   "source": [
    "#5 read inputs \n",
    "prev_step_inputs = substep.inputs(step_name=\"data_load\")\n",
    "df_california = spark.read.parquet(prev_step_inputs.california_dataset).toPandas()\n",
    "features = df_california.columns.tolist()\n",
    "features.remove('target')"
   ]
  },
  {
   "cell_type": "code",
   "execution_count": 14,
   "id": "04f8c516-079f-4473-8564-1cf66344872c",
   "metadata": {
    "tags": []
   },
   "outputs": [],
   "source": [
    "#6 make something to create artifacts\n",
    "import pandas as pd\n",
    "from sklearn.preprocessing import StandardScaler\n",
    "from sklearn.model_selection import train_test_split\n",
    "def preproc (df, feats):\n",
    "    \"\"\"\n",
    "    Create pre-processed X_train,X_test,X_val,y_train,y_test,y_val\n",
    "    Args:\n",
    "        df(pandas.DataFrame):Input DataFrame\n",
    "        feat(list): list of feature names\n",
    "    Returns:\n",
    "        6 pandas.DataFrame: X_train,X_test,X_val,y_train,y_test,y_val\n",
    "    \"\"\"\n",
    "    df_copy = df.copy()\n",
    "    df_copy = df_copy.fillna(0)\n",
    "\n",
    "    scaler = StandardScaler()\n",
    "    X = df_copy[feats]\n",
    "    y = df_copy['target'].to_frame()\n",
    "    \n",
    "    X_scaled = scaler.fit_transform(X.to_numpy())\n",
    "    X_scaled= pd.DataFrame(X_scaled, columns=feats)\n",
    "    \n",
    "    X_train, X_test, y_train, y_test = train_test_split(X_scaled, y, test_size=substep_params['test_size1'], random_state=substep_params['seed'])\n",
    "    X_test, X_val, y_test, y_val = train_test_split(X_test, y_test, test_size=substep_params['test_size2'], random_state=substep_params['seed'])\n",
    "    \n",
    "    return X_train,X_test,X_val,y_train,y_test,y_val"
   ]
  },
  {
   "cell_type": "code",
   "execution_count": 16,
   "id": "5cd7c62f-85a2-4385-bf92-91890a8cb632",
   "metadata": {},
   "outputs": [],
   "source": [
    "X_train,X_test,X_val,y_train,y_test,y_val = preproc (df = df_california, feats = features)   "
   ]
  },
  {
   "cell_type": "code",
   "execution_count": 18,
   "id": "0e5c9d26-9e8d-4291-b127-9e13b118e4cf",
   "metadata": {},
   "outputs": [],
   "source": [
    "X_train_spark = spark.createDataFrame(X_train)\n",
    "X_test_spark = spark.createDataFrame(X_test)    \n",
    "X_val_spark = spark.createDataFrame(X_val)\n",
    "\n",
    "y_train_spark = spark.createDataFrame(y_train)\n",
    "y_test_spark = spark.createDataFrame(y_test)\n",
    "y_val_spark = spark.createDataFrame(y_val)"
   ]
  },
  {
   "cell_type": "code",
   "execution_count": 60,
   "id": "47c68c69-46d1-48d0-a239-fac8bf36c6fa",
   "metadata": {
    "tags": []
   },
   "outputs": [],
   "source": [
    "#7 write outputs\n",
    "outputs = substep.outputs()\n",
    "\n",
    "X_train_spark.write.parquet(outputs.X_train, mode='overwrite')\n",
    "X_test_spark.write.parquet(outputs.X_test, mode='overwrite')\n",
    "X_val_spark.write.parquet(outputs.X_val, mode='overwrite')\n",
    "y_train_spark.write.parquet(outputs.y_train, mode='overwrite')\n",
    "y_test_spark.write.parquet(outputs.y_test, mode='overwrite')\n",
    "y_val_spark.write.parquet(outputs.y_val, mode='overwrite')\n",
    "\n",
    "\n"
   ]
  },
  {
   "cell_type": "code",
   "execution_count": 61,
   "id": "82ef2430-57f2-42f4-a435-f50e1edd2c0b",
   "metadata": {
    "tags": []
   },
   "outputs": [],
   "source": [
    "#8 stop spark\n",
    "SinaraSpark.stop_session()"
   ]
  },
  {
   "cell_type": "code",
   "execution_count": null,
   "id": "fedcabe7-0fed-4c1b-a333-c4f6d05d754e",
   "metadata": {},
   "outputs": [],
   "source": []
  }
 ],
 "metadata": {
  "kernelspec": {
   "display_name": "ml",
   "language": "python",
   "name": "python3"
  },
  "language_info": {
   "codemirror_mode": {
    "name": "ipython",
    "version": 3
   },
   "file_extension": ".py",
   "mimetype": "text/x-python",
   "name": "python",
   "nbconvert_exporter": "python",
   "pygments_lexer": "ipython3",
   "version": "3.10.12"
  }
 },
 "nbformat": 4,
 "nbformat_minor": 5
}
